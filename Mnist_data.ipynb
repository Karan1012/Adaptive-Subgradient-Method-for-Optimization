{
  "nbformat": 4,
  "nbformat_minor": 0,
  "metadata": {
    "colab": {
      "name": "Untitled23.ipynb",
      "provenance": []
    },
    "kernelspec": {
      "name": "python3",
      "display_name": "Python 3"
    },
    "accelerator": "GPU"
  },
  "cells": [
    {
      "cell_type": "code",
      "metadata": {
        "id": "7xAhJHTqJpaq",
        "colab_type": "code",
        "colab": {
          "base_uri": "https://localhost:8080/",
          "height": 759
        },
        "outputId": "de7bc87f-b578-45bf-9298-fef9aba3e21c"
      },
      "source": [
        "from keras.layers import Conv2D, MaxPooling2D, Flatten,Dense\n",
        "from keras.models import Sequential\n",
        "from keras.datasets import mnist\n",
        "from keras.utils import to_categorical\n",
        "\n",
        "import matplotlib.pyplot as plt\n",
        "\n",
        "\n",
        "(X_train, y_train), (X_test, y_test) = mnist.load_data()\n",
        "print(X_train.shape)\n",
        "print(y_train.shape)\n",
        "print(X_test.shape)\n",
        "print(y_test.shape)\n",
        "\n",
        "num_classes = 10\n",
        "epochs = 3\n",
        "\n",
        "X_train = X_train.reshape(60000,28,28,1)\n",
        "X_test = X_test.reshape(10000,28,28,1)\n",
        "X_train = X_train.astype('float32')\n",
        "X_test = X_test.astype('float32')\n",
        "X_train /= 255.0\n",
        "X_test /= 255.0\n",
        "y_train = to_categorical(y_train,num_classes)\n",
        "y_test = to_categorical(y_test, num_classes)\n",
        "\n",
        "print(X_train.shape)\n",
        "print(y_train.shape)\n",
        "print(X_test.shape)\n",
        "print(y_test.shape)\n",
        "\n",
        "cnn1 = Sequential()\n",
        "cnn1.add(Conv2D(32, kernel_size=(5,5), input_shape=(28,28,1), padding='same', activation='relu'))\n",
        "cnn1.add(MaxPooling2D())\n",
        "cnn1.add(Conv2D(64, kernel_size=(5,5), padding='same', activation='relu'))\n",
        "cnn1.add(MaxPooling2D())\n",
        "cnn1.add(Flatten())\n",
        "cnn1.add(Dense(1024, activation='relu'))\n",
        "cnn1.add(Dense(10,activation='softmax'))\n",
        "cnn1.compile(optimizer='adagrad', loss='categorical_crossentropy',metrics=['accuracy'])\n",
        "print(cnn1.summary())\n",
        "history_cnn1 = cnn1.fit(X_train,y_train,epochs=5,verbose=1,validation_data=(X_train,y_train))\n"
      ],
      "execution_count": 1,
      "outputs": [
        {
          "output_type": "stream",
          "text": [
            "Using TensorFlow backend.\n"
          ],
          "name": "stderr"
        },
        {
          "output_type": "stream",
          "text": [
            "(60000, 28, 28)\n",
            "(60000,)\n",
            "(10000, 28, 28)\n",
            "(10000,)\n",
            "(60000, 28, 28, 1)\n",
            "(60000, 10)\n",
            "(10000, 28, 28, 1)\n",
            "(10000, 10)\n",
            "Model: \"sequential_1\"\n",
            "_________________________________________________________________\n",
            "Layer (type)                 Output Shape              Param #   \n",
            "=================================================================\n",
            "conv2d_1 (Conv2D)            (None, 28, 28, 32)        832       \n",
            "_________________________________________________________________\n",
            "max_pooling2d_1 (MaxPooling2 (None, 14, 14, 32)        0         \n",
            "_________________________________________________________________\n",
            "conv2d_2 (Conv2D)            (None, 14, 14, 64)        51264     \n",
            "_________________________________________________________________\n",
            "max_pooling2d_2 (MaxPooling2 (None, 7, 7, 64)          0         \n",
            "_________________________________________________________________\n",
            "flatten_1 (Flatten)          (None, 3136)              0         \n",
            "_________________________________________________________________\n",
            "dense_1 (Dense)              (None, 1024)              3212288   \n",
            "_________________________________________________________________\n",
            "dense_2 (Dense)              (None, 10)                10250     \n",
            "=================================================================\n",
            "Total params: 3,274,634\n",
            "Trainable params: 3,274,634\n",
            "Non-trainable params: 0\n",
            "_________________________________________________________________\n",
            "None\n",
            "Train on 60000 samples, validate on 60000 samples\n",
            "Epoch 1/5\n",
            "60000/60000 [==============================] - 14s 227us/step - loss: 0.1067 - accuracy: 0.9699 - val_loss: 0.0371 - val_accuracy: 0.9884\n",
            "Epoch 2/5\n",
            "60000/60000 [==============================] - 12s 194us/step - loss: 0.0318 - accuracy: 0.9904 - val_loss: 0.0217 - val_accuracy: 0.9935\n",
            "Epoch 3/5\n",
            "60000/60000 [==============================] - 11s 191us/step - loss: 0.0216 - accuracy: 0.9932 - val_loss: 0.0188 - val_accuracy: 0.9943\n",
            "Epoch 4/5\n",
            "60000/60000 [==============================] - 12s 193us/step - loss: 0.0160 - accuracy: 0.9952 - val_loss: 0.0116 - val_accuracy: 0.9968\n",
            "Epoch 5/5\n",
            "60000/60000 [==============================] - 12s 194us/step - loss: 0.0123 - accuracy: 0.9965 - val_loss: 0.0078 - val_accuracy: 0.9982\n"
          ],
          "name": "stdout"
        }
      ]
    },
    {
      "cell_type": "code",
      "metadata": {
        "id": "X0uVvWz0QV3J",
        "colab_type": "code",
        "colab": {
          "base_uri": "https://localhost:8080/",
          "height": 296
        },
        "outputId": "56bf7f17-bee8-4d4d-e312-76b90deb39f1"
      },
      "source": [
        "# loss=[0.0963,0.0352,0.0250,0.0177,0.0148]\n",
        "# acc=[0.9700,0.9892,0.9923,0.9943,0.9955]\n",
        "# epochs=[1,2,3,4,5]\n",
        "# plt.plot(epochs,acc)\n",
        "# plt.ylabel('Accuracy')\n",
        "# plt.xlabel('Epochs')\n",
        "plt.plot(history_cnn.history['loss'],label='SGD',color = 'r')\n",
        "plt.plot(history_cnn1.history['loss'],label='AdaGrad', color = 'b')\n",
        "plt.legend(['SGD', 'AdaGrad'], loc=1)\n",
        "plt.xlabel('Epochs')\n",
        "plt.ylabel('Loss')\n",
        "# plt.plot(epochs,loss)\n",
        "# plt.ylabel('Loss')\n",
        "# plt.xlabel('Epochs')\n",
        "\n"
      ],
      "execution_count": 3,
      "outputs": [
        {
          "output_type": "execute_result",
          "data": {
            "text/plain": [
              "Text(0, 0.5, 'Loss')"
            ]
          },
          "metadata": {
            "tags": []
          },
          "execution_count": 3
        },
        {
          "output_type": "display_data",
          "data": {
            "image/png": "[encoded data removed]",
            "text/plain": [
              "<Figure size 432x288 with 1 Axes>"
            ]
          },
          "metadata": {
            "tags": [],
            "needs_background": "light"
          }
        }
      ]
    },
    {
      "cell_type": "code",
      "metadata": {
        "id": "F0i26pqTgnkf",
        "colab_type": "code",
        "colab": {
          "base_uri": "https://localhost:8080/",
          "height": 296
        },
        "outputId": "d1894d37-ee6c-4fee-d249-c431d2a61038"
      },
      "source": [
        "plt.plot(history_cnn.history['val_accuracy'],label='SGD',color = 'r')\n",
        "plt.plot(history_cnn1.history['val_accuracy'],label='AdaGrad', color = 'b')\n",
        "plt.legend(['SGD', 'AdaGrad'], loc=4)\n",
        "plt.xlabel('Epochs')\n",
        "plt.ylabel('Loss')"
      ],
      "execution_count": 5,
      "outputs": [
        {
          "output_type": "execute_result",
          "data": {
            "text/plain": [
              "Text(0, 0.5, 'Loss')"
            ]
          },
          "metadata": {
            "tags": []
          },
          "execution_count": 5
        },
        {
          "output_type": "display_data",
          "data": {
            "image/png": "[encoded data removed]",
            "text/plain": [
              "<Figure size 432x288 with 1 Axes>"
            ]
          },
          "metadata": {
            "tags": [],
            "needs_background": "light"
          }
        }
      ]
    },
    {
      "cell_type": "code",
      "metadata": {
        "id": "GrNMyPFdQFk0",
        "colab_type": "code",
        "colab": {
          "base_uri": "https://localhost:8080/",
          "height": 742
        },
        "outputId": "3652baf1-d8bc-4cec-eecc-06792f716633"
      },
      "source": [
        "from keras.layers import Conv2D, MaxPooling2D, Flatten,Dense\n",
        "from keras.models import Sequential\n",
        "from keras.datasets import mnist\n",
        "from keras.utils import to_categorical\n",
        "\n",
        "import matplotlib.pyplot as plt\n",
        "\n",
        "\n",
        "(X_train, y_train), (X_test, y_test) = mnist.load_data()\n",
        "print(X_train.shape)\n",
        "print(y_train.shape)\n",
        "print(X_test.shape)\n",
        "print(y_test.shape)\n",
        "\n",
        "num_classes = 10\n",
        "epochs = 3\n",
        "\n",
        "X_train = X_train.reshape(60000,28,28,1)\n",
        "X_test = X_test.reshape(10000,28,28,1)\n",
        "X_train = X_train.astype('float32')\n",
        "X_test = X_test.astype('float32')\n",
        "X_train /= 255.0\n",
        "X_test /= 255.0\n",
        "y_train = to_categorical(y_train,num_classes)\n",
        "y_test = to_categorical(y_test, num_classes)\n",
        "\n",
        "print(X_train.shape)\n",
        "print(y_train.shape)\n",
        "print(X_test.shape)\n",
        "print(y_test.shape)\n",
        "\n",
        "cnn = Sequential()\n",
        "cnn.add(Conv2D(32, kernel_size=(5,5), input_shape=(28,28,1), padding='same', activation='relu'))\n",
        "cnn.add(MaxPooling2D())\n",
        "cnn.add(Conv2D(64, kernel_size=(5,5), padding='same', activation='relu'))\n",
        "cnn.add(MaxPooling2D())\n",
        "cnn.add(Flatten())\n",
        "cnn.add(Dense(1024, activation='relu'))\n",
        "cnn.add(Dense(10,activation='softmax'))\n",
        "cnn.compile(optimizer='sgd', loss='categorical_crossentropy',metrics=['accuracy'])\n",
        "print(cnn.summary())\n",
        "history_cnn = cnn.fit(X_train,y_train,epochs=5,verbose=1,validation_data=(X_train,y_train))\n"
      ],
      "execution_count": 2,
      "outputs": [
        {
          "output_type": "stream",
          "text": [
            "(60000, 28, 28)\n",
            "(60000,)\n",
            "(10000, 28, 28)\n",
            "(10000,)\n",
            "(60000, 28, 28, 1)\n",
            "(60000, 10)\n",
            "(10000, 28, 28, 1)\n",
            "(10000, 10)\n",
            "Model: \"sequential_2\"\n",
            "_________________________________________________________________\n",
            "Layer (type)                 Output Shape              Param #   \n",
            "=================================================================\n",
            "conv2d_3 (Conv2D)            (None, 28, 28, 32)        832       \n",
            "_________________________________________________________________\n",
            "max_pooling2d_3 (MaxPooling2 (None, 14, 14, 32)        0         \n",
            "_________________________________________________________________\n",
            "conv2d_4 (Conv2D)            (None, 14, 14, 64)        51264     \n",
            "_________________________________________________________________\n",
            "max_pooling2d_4 (MaxPooling2 (None, 7, 7, 64)          0         \n",
            "_________________________________________________________________\n",
            "flatten_2 (Flatten)          (None, 3136)              0         \n",
            "_________________________________________________________________\n",
            "dense_3 (Dense)              (None, 1024)              3212288   \n",
            "_________________________________________________________________\n",
            "dense_4 (Dense)              (None, 10)                10250     \n",
            "=================================================================\n",
            "Total params: 3,274,634\n",
            "Trainable params: 3,274,634\n",
            "Non-trainable params: 0\n",
            "_________________________________________________________________\n",
            "None\n",
            "Train on 60000 samples, validate on 60000 samples\n",
            "Epoch 1/5\n",
            "60000/60000 [==============================] - 11s 178us/step - loss: 0.4004 - accuracy: 0.8899 - val_loss: 0.1227 - val_accuracy: 0.9648\n",
            "Epoch 2/5\n",
            "60000/60000 [==============================] - 11s 178us/step - loss: 0.1083 - accuracy: 0.9667 - val_loss: 0.0869 - val_accuracy: 0.9738\n",
            "Epoch 3/5\n",
            "60000/60000 [==============================] - 11s 178us/step - loss: 0.0753 - accuracy: 0.9770 - val_loss: 0.0680 - val_accuracy: 0.9794\n",
            "Epoch 4/5\n",
            "60000/60000 [==============================] - 11s 176us/step - loss: 0.0599 - accuracy: 0.9819 - val_loss: 0.0478 - val_accuracy: 0.9859\n",
            "Epoch 5/5\n",
            "60000/60000 [==============================] - 11s 177us/step - loss: 0.0503 - accuracy: 0.9847 - val_loss: 0.0474 - val_accuracy: 0.9848\n"
          ],
          "name": "stdout"
        }
      ]
    }
  ]
}